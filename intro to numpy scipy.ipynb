{
 "cells": [
  {
   "cell_type": "markdown",
   "metadata": {},
   "source": [
    "# NUIT workshop\n",
    "## Intro to Numpy and Scipy\n",
    "\n",
    "Marco A. Alsina\n",
    "\n",
    "May 10 2018"
   ]
  },
  {
   "cell_type": "markdown",
   "metadata": {},
   "source": [
    "From Wikipedia:\n",
    "\n",
    ">NumPy is a library for the Python programming language, adding support for large, multi-dimensional arrays and matrices, along with a large collection of high-level mathematical functions to operate on these arrays.\n",
    "\n",
    ">SciPy is an open-source Python library used for scientific computing and technical computing.\n",
    "SciPy contains modules for optimization, linear algebra, integration, interpolation, special functions, FFT, signal and image processing, ODE solvers and other tasks common in science and engineering.\n",
    "\n",
    "### 01. References and Resources for Numpy and Scipy\n",
    "\n",
    "Numpy Reference Documentation:\n",
    "https://docs.scipy.org/doc/numpy/reference/\n",
    "\n",
    "Scipy Reference Documentation:\n",
    "https://docs.scipy.org/doc/scipy/reference/\n",
    "\n",
    "Matplotlib Thumbnail Gallery\n",
    "https://matplotlib.org/gallery.html\n",
    "\n",
    "Jupyter Notebook tips and tricks:\n",
    "https://www.dataquest.io/blog/jupyter-notebook-tips-tricks-shortcuts/\n",
    "\n",
    "#### Resources for Numpy and Scipy\n",
    "\n",
    "Numpy Quickstart Tutorial:\n",
    "https://docs.scipy.org/doc/numpy-dev/user/quickstart.html\n",
    "\n",
    "\n",
    "Scipy Tutorial:\n",
    "https://docs.scipy.org/doc/scipy/reference/tutorial/index.html\n",
    "\n",
    "Scipy Lecture Notes:\n",
    "http://www.scipy-lectures.org/\n",
    "\n",
    "Additional Tutorials:\n",
    "\n",
    "https://www.dataquest.io/blog/numpy-tutorial-python/\n",
    "\n",
    "https://www.datacamp.com/community/tutorials/python-numpy-tutorial\n",
    "\n",
    "https://www.datacamp.com/community/tutorials/python-scipy-tutorial"
   ]
  },
  {
   "cell_type": "code",
   "execution_count": null,
   "metadata": {},
   "outputs": [],
   "source": [
    "# this is a comment\n",
    "'''\n",
    "Longer comments can be put by using triple quote marks\n",
    "'''\n",
    "# Let's start by loading the libraries through aliases\n",
    "# and printing their versions (helpful for publication)\n",
    "\n",
    "import sys\n",
    "import numpy as np\n",
    "import scipy as sp\n",
    "import matplotlib.pylab as plt\n",
    "\n",
    "print (\"Python version:\", sys.version)\n",
    "print (\"Numpy version:\", np.__version__)\n",
    "print (\"Scipy version:\", sp.__version__)\n",
    "print (\"Matploltib version:\", plt.__version__)"
   ]
  },
  {
   "cell_type": "markdown",
   "metadata": {},
   "source": [
    "As you can see, in this workshop we will be using Python 3.6, as well as the latest versions of Numpy and Scipy.\n",
    "\n",
    "We will also be plotting our data with Matplotlib.\n",
    "\n",
    "Let's begin!"
   ]
  },
  {
   "cell_type": "markdown",
   "metadata": {},
   "source": [
    "### 02. Arrays: Creation, indexing and slicing"
   ]
  },
  {
   "cell_type": "code",
   "execution_count": null,
   "metadata": {},
   "outputs": [],
   "source": [
    "# Numpy operates with arrays, which are containers for numerical data\n",
    "# One way to create a vector array is with the arange function\n",
    "# Note that the created array does not include the last value\n",
    "x = np.arange(0,10)\n",
    "print (x)\n",
    "print (type(x), x.dtype)"
   ]
  },
  {
   "cell_type": "code",
   "execution_count": null,
   "metadata": {},
   "outputs": [],
   "source": [
    "# Numpy functions accept multiple arguments.\n",
    "# You can check the documentation or invoke it directly via the help function\n",
    "help(np.arange)"
   ]
  },
  {
   "cell_type": "code",
   "execution_count": null,
   "metadata": {},
   "outputs": [],
   "source": [
    "# Another way to create arrays is with the linspace function\n",
    "# Note that the created array does include the last value by default\n",
    "x = np.linspace(1,20,20)\n",
    "print (x)\n",
    "print (type(x), x.dtype)"
   ]
  },
  {
   "cell_type": "code",
   "execution_count": null,
   "metadata": {},
   "outputs": [],
   "source": [
    "# Arrays in numpy are multidimensional.\n",
    "# Therefore we can create a vector array and latter reshappe it as a matrix.\n",
    "# \n",
    "a = np.arange(1,10)\n",
    "print (a)\n",
    "print (\"Shape of a:\", a.shape, \"\\n\")\n",
    "\n",
    "# Reshaping the data in 3 rows\n",
    "# an index of -1 is unspecified, so numpy infers the correct number of cols\n",
    "# During reshaping we need to pick the arrangement of the elements in the array.\n",
    "# This can be row-wise or column wise, and matters significantly for later operations.\n",
    "A = np.reshape(a, (3,-1), order='C')\n",
    "print (\"Reshaping in C order (row wise)\")\n",
    "print (A)\n",
    "print (\"Shape of A:\", A.shape, \"\\n\")\n",
    "\n",
    "# Reshaping the data in 5 rows\n",
    "A = np.reshape(a, (3,-1), order='F')\n",
    "print (\"Reshaping in Fortran order (col wise)\")\n",
    "print (A)\n",
    "print (\"Shape of A:\", A.shape, \"\\n\")"
   ]
  },
  {
   "cell_type": "code",
   "execution_count": null,
   "metadata": {},
   "outputs": [],
   "source": [
    "# Sometimes we just want to create arrays\n",
    "# containing zeroes and ones\n",
    "# We may also want to create empty or identity matrices.\n",
    "zeroes = np.zeros((3,2))\n",
    "ones   = np.ones((2,3))    \n",
    "eye    = np.eye(3)        # identity matrix\n",
    "empty  = np.empty((2,3))  # random values are asigned\n",
    "\n",
    "print (zeroes, \"\\n\")\n",
    "print (ones, \"\\n\")\n",
    "print (eye, \"\\n\")\n",
    "print (empty)"
   ]
  },
  {
   "cell_type": "code",
   "execution_count": null,
   "metadata": {},
   "outputs": [],
   "source": [
    "# We can extract values from an array via indexing\n",
    "# Note that numpy indexes start from zero!! (Difference with Matlab)\n",
    "# The first index indicates the row, the second index indicates the column\n",
    "print (A)\n",
    "\n",
    "# Indexing the first element of the matrix\n",
    "print (\"First element:\", A[0,0])\n",
    "\n",
    "# Indexing the last element of the matrix\n",
    "print (\"Last element:\", A[-1,-1])    # equivalent in this case to A[3,3]\n",
    "\n",
    "# Indexing the first column\n",
    "# the colon operator indicates all the elements in the specificed dimension\n",
    "print (\"First column:\", A[:,0])\n",
    "\n",
    "# Indexing the first row; \n",
    "print (\"First row\", A[0,:])    # equivalend to A[0]\n",
    "\n",
    "# Extracting the diagonal of the matrix\n",
    "print (\"Diagonal\", np.diag(A))"
   ]
  },
  {
   "cell_type": "code",
   "execution_count": null,
   "metadata": {},
   "outputs": [],
   "source": [
    "# Note that indexing and slicing creates a view of the original array, not a copy\n",
    "# threfore modifying the values of the view modifies the original dataset as well!\n",
    "A[:,0] = 0\n",
    "print (A)\n",
    "print (a)"
   ]
  },
  {
   "cell_type": "code",
   "execution_count": null,
   "metadata": {
    "scrolled": true
   },
   "outputs": [],
   "source": [
    "# To create a copy of the original array we need to explicitly copy it\n",
    "A        = np.arange(1,10).reshape(3,-1)\n",
    "B        = np.copy(A)\n",
    "C        = A\n",
    "C[:,0:2] = 1\n",
    "\n",
    "print (\"A Matrix (modified) \\n\", A)\n",
    "print (\"B Matrix (copy) \\n\", B)"
   ]
  },
  {
   "cell_type": "code",
   "execution_count": null,
   "metadata": {},
   "outputs": [],
   "source": [
    "# We can select between elements with the double colon operator\n",
    "# Select every other element in the first column\n",
    "print (B)\n",
    "print (B[::2,0])\n",
    "\n",
    "# Reverse the elements in the first column\n",
    "print (B[::-1,0])"
   ]
  },
  {
   "cell_type": "code",
   "execution_count": null,
   "metadata": {
    "scrolled": false
   },
   "outputs": [],
   "source": [
    "# A more interesting example\n",
    "# We perform a slicing operation on a vector\n",
    "# Here we select the elements with indexes from 10 to 59\n",
    "x = np.linspace(0,10,101)\n",
    "y = np.sin(x)\n",
    "\n",
    "x_sliced = x[10:60]\n",
    "y_sliced = y[10:60]\n",
    "\n",
    "# We offset the sliced data to show it\n",
    "plt.plot(x,y, label='original')\n",
    "plt.plot(x_sliced, y_sliced+ 0.5, label='sliced', lw=2)\n",
    "\n",
    "# We also plot the location of the slicers\n",
    "# Remember that slice operations do not include the last index!\n",
    "for i in [10,59]:\n",
    "    print (\"index:\",i, \"; value of x:\", x[i])\n",
    "    plt.axvline(x[i], color='gray', linestyle='--')\n",
    "\n",
    "plt.legend()\n",
    "plt.show()"
   ]
  },
  {
   "cell_type": "markdown",
   "metadata": {},
   "source": [
    "### 02. Input/Output of data\n",
    "\n",
    "For loading/saving data we will be using the Wine Recognition Data.\n",
    "\n",
    "The file needs to be in the same folder that your notebook.\n",
    "\n",
    "#### Note:\n",
    "Libraries such as pandas support IO for a number of different files, including CSV, Excel, JSON, and others.\n",
    "\n",
    "Such functions are not covered in this workshop but the interested reader is referred to the pandas documentation:\n",
    "\n",
    "https://pandas.pydata.org/pandas-docs/stable/io.html"
   ]
  },
  {
   "cell_type": "code",
   "execution_count": null,
   "metadata": {
    "scrolled": false
   },
   "outputs": [],
   "source": [
    "# Before loading the data it is always good to look at the file\n",
    "# numpy has some built-in functions to load data from files, lets use loadtxt\n",
    "datafile = \"data_wine.txt\"\n",
    "data     = np.loadtxt(datafile, delimiter=',', skiprows=3)\n",
    "\n",
    "# to load the header we could use the built-in functions of python\n",
    "n = 2    # counter for the number of lines to skip (starts from zero!)\n",
    "with open(datafile, 'r') as f:\n",
    "    for i in range(n):\n",
    "        f.readline()\n",
    "    headers = f.readline().split(\",\")\n",
    "\n",
    "# printing the data and headers\n",
    "print (\"Raw data\")\n",
    "print (headers)\n",
    "print (data[0:5,0:5])\n",
    "\n",
    "# cleaning the last header\n",
    "# removing first column\n",
    "headers[-1] = headers[-1][:-1]\n",
    "data = data[:,1:]\n",
    "\n",
    "print (\"\\nCleaned data\")\n",
    "print (headers)\n",
    "print (data[0:5,0:5])"
   ]
  },
  {
   "cell_type": "code",
   "execution_count": null,
   "metadata": {},
   "outputs": [],
   "source": [
    "# after reading the data, we can save it as a numpy array in a file\n",
    "# note that the \"npy\" extension is automatically added\n",
    "np.save(\"my_data\", data)\n",
    "np.save(\"my_headers\", headers)\n",
    "\n",
    "# after saving we can load the data with the load function\n",
    "my_data    = np.load(\"my_data.npy\")\n",
    "my_headers = np.load(\"my_headers.npy\")\n",
    "print (my_headers)\n",
    "print (my_data[:10,:3])"
   ]
  },
  {
   "cell_type": "markdown",
   "metadata": {},
   "source": [
    "### 03. Basic Linear Algebra"
   ]
  },
  {
   "cell_type": "code",
   "execution_count": null,
   "metadata": {},
   "outputs": [],
   "source": [
    "# The * operator multiplies element-wise in arrays\n",
    "# The dot product needs to be explicitly requested\n",
    "A = np.arange(1,5).reshape(2,2)\n",
    "B = 2*np.ones((2,2), dtype=int)\n",
    "\n",
    "print (\"Matrix A:\\n\", A)\n",
    "print (\"Matrix B:\\n\", B)\n",
    "print (\"Transpose A:\\n\", A.T)\n",
    "print (\"Element wise A*B\\n\", A*B)\n",
    "print (\"Dot product A.B\\n\", np.dot(A,B))"
   ]
  },
  {
   "cell_type": "code",
   "execution_count": null,
   "metadata": {},
   "outputs": [],
   "source": [
    "# Eigenvalues and eigenvectors of a matrix\n",
    "eigenval, eigenvec = np.linalg.eig(A)\n",
    "print (\"Eigenvalues of A\\n\", eigenval)\n",
    "print (\"Eigenvectors of A\\n\", eigenvec)\n",
    "\n",
    "# Determinant\n",
    "print (\"Determinant of A:\\n\", np.int(np.linalg.det(A)))\n",
    "\n",
    "# Inverse of square matrix\n",
    "A_inv = np.linalg.inv(A)\n",
    "print (\"Inverse of A:\\n\", np.linalg.inv(A))\n",
    "\n",
    "# checking tolerance with identity matrix\n",
    "print (\"Dot product between A and A inverse:\\n\", np.dot(A,A_inv))\n",
    "np.allclose(np.dot(A, A_inv), np.eye(2))"
   ]
  },
  {
   "cell_type": "code",
   "execution_count": null,
   "metadata": {},
   "outputs": [],
   "source": [
    "# Solving a system of linear equations\n",
    "# 3x + 5y + 3z = 5\n",
    "# 2x - 3y - 2z = 5\n",
    "# x  + 2y  -z  = 6\n",
    "# Solution is x=2, y=1, z=-2\n",
    "\n",
    "A = np.array([[3,5,3],[2,-3,-2], [1,2,-1]])\n",
    "b = np.array([5,5,6])\n",
    "\n",
    "x = np.linalg.solve(A,b)\n",
    "print (\"Solution to linear system:\\n\", x)\n",
    "np.allclose(b,np.dot(A,x))"
   ]
  },
  {
   "cell_type": "markdown",
   "metadata": {},
   "source": [
    "### 04. Bsic statistics, random variables, statistical distributions"
   ]
  },
  {
   "cell_type": "code",
   "execution_count": null,
   "metadata": {},
   "outputs": [],
   "source": [
    "# numpy offers functions for basic central and dispersion statistics\n",
    "a = np.random.uniform(-5,5,100)\n",
    "print (\"Minimum: {0:1.2f}\".format(np.min(a)))\n",
    "print (\"Maximum: {0:1.2f}\".format(np.max(a)))\n",
    "print (\"Range:   {0:1.2f}\".format(np.ptp(a)))\n",
    "print (\"Mean:    {0:1.2f}\".format(np.mean(a)))\n",
    "print (\"Stdev:   {0:1.2f}\".format(np.std(a)))\n",
    "print (\"Var:     {0:1.2f}\".format(np.var(a)))"
   ]
  },
  {
   "cell_type": "code",
   "execution_count": null,
   "metadata": {},
   "outputs": [],
   "source": [
    "# Lets calculate the Pearson product-moment correlation coefficient for the Wine data\n",
    "# We plot the results as an image for better visualization\n",
    "corrcoef = np.corrcoef(data.T)\n",
    "\n",
    "fig, ax = plt.subplots(1,1)\n",
    "img = ax.imshow(corrcoef)\n",
    "plt.colorbar(img, ax=ax)\n",
    "ax.set_xticks(range(0,len(headers)))\n",
    "ax.set_yticks(range(0,len(headers)))\n",
    "ax.set_xticklabels(headers, rotation=90, fontsize=8)\n",
    "ax.set_yticklabels(headers, fontsize=8)\n",
    "ax.set_title(\"Wine data pearson correlation\")\n",
    "plt.show()"
   ]
  },
  {
   "cell_type": "code",
   "execution_count": null,
   "metadata": {},
   "outputs": [],
   "source": [
    "# for the case of random data, numpy offers numerous distributions\n",
    "np.random.seed(1234)          # random seed\n",
    "n        = 100000             # number of points\n",
    "uni_rand = np.random.rand(n)  # uniform distribution [0,1)\n",
    "nor_rand = np.random.randn(n) # normal distribution\n",
    "uni_rand2= np.random.uniform(-4,4,n)  # uniform from [-4,4]\n",
    "\n",
    "plt.hist(uni_rand2,bins= 100, normed=True, alpha=0.7, label='uniform')\n",
    "plt.hist(nor_rand, bins= 100, normed=True, alpha=0.7, label='normal')\n",
    "\n",
    "# checking reproducibility of results\n",
    "print (np.random.rand(5))\n",
    "\n",
    "plt.legend()\n",
    "plt.show()"
   ]
  },
  {
   "cell_type": "code",
   "execution_count": null,
   "metadata": {},
   "outputs": [],
   "source": [
    "# Scipy offers many continous statistical distributions\n",
    "# including convenient functions to extract moments and\n",
    "# generate random samples\n",
    "# Note that here we import the functions directly, avoiding aliases\n",
    "from scipy.stats import ncf\n",
    "\n",
    "# Parameters for non-central F distribution\n",
    "# dfn = degrees of freedom numerator\n",
    "# dfd = degrees of freedom denominator\n",
    "# nc = non-centrality parameter\n",
    "dfn, dfd, nc = 20,20, 0.5\n",
    "\n",
    "# printing some moments for the function\n",
    "moments = [\"Mean: \",\"Variance: \",\"Skewness: \",\"Kurtosis: \"]\n",
    "mean, var, skew, kurt = ncf.stats(dfn, dfd, nc, moments='mvsk')\n",
    "\n",
    "print (\"Principal moments of non-central F distribution:\")\n",
    "for i, mom in enumerate([mean, var, skew, kurt]):\n",
    "    print (\"\\t{0}{1:1.2f}\".format(moments[i],mom))\n",
    "\n",
    "# Calculate the probability density function (PDF)\n",
    "# continous random variables include common methods to extract\n",
    "# statistical information, such as the percent point function \n",
    "# (inverse of cumulative distribution function CDF) \n",
    "x0       = ncf.ppf(0.001, dfn, dfd, nc)    \n",
    "x1       = ncf.ppf(0.999, dfn,dfd, nc)\n",
    "x        = np.linspace(x0,x1,100)\n",
    "ncf_pdf = ncf.pdf(x, dfn, dfd, nc)  # calculating the pdf\n",
    "ncf_cdf = ncf.cdf(x, dfn, dfd, nc)  # calculating the cdf\n",
    "\n",
    "# Random sampling the distribution\n",
    "# through the random variates method\n",
    "r = ncf.rvs(dfn, dfd, nc, size=10000)\n",
    "\n",
    "# plotting the pdf and the sampling histogram\n",
    "fig, ax = plt.subplots(1,1)\n",
    "ax.hist(r, bins=50, normed=True, alpha=0.5, label='sampled histogram')\n",
    "ax.plot(x,ncf_pdf, lw=3, color='red',  label='Non-central F PDF')\n",
    "ax.plot(x,ncf_cdf, lw=3, color='gold', label='Non-central F CDF')\n",
    "ax.legend(loc='center right')\n",
    "plt.show()"
   ]
  },
  {
   "cell_type": "markdown",
   "metadata": {},
   "source": [
    "### 05. Examples of data analysis "
   ]
  },
  {
   "cell_type": "code",
   "execution_count": null,
   "metadata": {},
   "outputs": [],
   "source": [
    "# Location of maxima and minima in numerical data\n",
    "# Maximum and minimum concentrations of Mg in Wine data\n",
    "from scipy.signal import argrelextrema\n",
    "\n",
    "mg_conc = data[:,4]\n",
    "index = np.arange(0,len(mg_conc))\n",
    "maxvals = argrelextrema(mg_conc, np.greater, order=5)\n",
    "minvals = argrelextrema(mg_conc, np.less, order=5)\n",
    "\n",
    "fig, ax = plt.subplots(1,1)\n",
    "ax.plot(index, mg_conc)\n",
    "ax.plot(index[maxvals], mg_conc[maxvals], linestyle='', marker='o', color='red', label='maxima')\n",
    "ax.plot(index[minvals], mg_conc[minvals], linestyle='', marker='o', color='gold', label='minima')\n",
    "ax.set_ylabel(\"Mg concentration [mg/L]\")\n",
    "ax.set_xlabel(\"Index\")\n",
    "ax.legend()\n",
    "plt.show()"
   ]
  },
  {
   "cell_type": "code",
   "execution_count": null,
   "metadata": {},
   "outputs": [],
   "source": [
    "# Data interpolation\n",
    "from scipy import interpolate\n",
    "\n",
    "# interpolating the first 10 points of Mg concentration in Wine\n",
    "liner = interpolate.interp1d(index[:10], mg_conc[:10], kind='slinear')\n",
    "quadr = interpolate.interp1d(index[:10], mg_conc[:10], kind='quadratic')\n",
    "cubic = interpolate.interp1d(index[:10], mg_conc[:10], kind='cubic')\n",
    "\n",
    "\n",
    "# representing the interpolated data\n",
    "new_index   = np.linspace(0,index[9], 100)\n",
    "lin_mg_conc = liner(new_index)\n",
    "qua_mg_conc = quadr(new_index)\n",
    "cub_mg_conc = cubic(new_index)\n",
    "\n",
    "# plotting the original and interpolated data\n",
    "fig, ax = plt.subplots(1,1)\n",
    "ax.plot(index[:10], mg_conc[:10], marker='o', ls='', ms=12, label='original')\n",
    "ax.plot(new_index, lin_mg_conc, lw=2, label='linear')\n",
    "ax.plot(new_index, qua_mg_conc, lw=2, label='quadratic')\n",
    "ax.plot(new_index, cub_mg_conc, lw=2, label='cubic')\n",
    "ax.legend()\n",
    "\n",
    "plt.show()"
   ]
  },
  {
   "cell_type": "code",
   "execution_count": null,
   "metadata": {},
   "outputs": [],
   "source": [
    "# Linear regression between hue and color intensity in wine data\n",
    "from scipy import stats \n",
    "hue        = data[:,10]\n",
    "malic_acid = data[:,1]\n",
    "\n",
    "# calculating the slope, intercept and additional metrics\n",
    "slope, intercept, r_value, p_value, std_err = stats.linregress(hue, malic_acid)\n",
    "text = \"slope: {0:1.3f}\\nintercept: {1:1.3f}\\nr-squared: {2:1.3f}\".\\\n",
    "        format(slope, intercept, r_value**2)\n",
    "print(\"p-value: \", p_value)\n",
    "\n",
    "# plotting the data\n",
    "fig, ax = plt.subplots(1,1)\n",
    "ax.plot(hue, malic_acid, ls='', marker='o')\n",
    "ax.plot(hue, intercept + slope*hue, color='red', lw=2)\n",
    "ax.set_xlabel('Wine hue')\n",
    "ax.set_ylabel('Malic acid conc [mg/L]')\n",
    "ax.text(1.2, 4, text, fontsize=14)\n",
    "\n",
    "plt.show()"
   ]
  },
  {
   "cell_type": "code",
   "execution_count": null,
   "metadata": {},
   "outputs": [],
   "source": [
    "# Least-squares fitting\n",
    "# Determining model parameters from data\n",
    "# that follows Ae^{-kt}*sin(2*pi*f*t)\n",
    "from scipy import optimize\n",
    "\n",
    "# defining function and residual\n",
    "def fun(x,A,k,f):\n",
    "    return A*np.sin(2*np.pi*f*x)*np.exp(-k*t)\n",
    "\n",
    "def resid(p, x, y):\n",
    "    return y - fun(x,*p)\n",
    "\n",
    "# producing data\n",
    "np.random.seed(12345)                   # random seed\n",
    "pars = {'A': 1.0, 'k': 0.5, 'f': 2}     # dictionary of parameters\n",
    "t    = np.linspace(0,5,500)\n",
    "y    = fun(t,pars['A'], pars['k'], pars['f']) + np.random.uniform(-0.2,0.2,len(t))\n",
    "\n",
    "# performing the least squares fit\n",
    "p0 = [1,1,1]\n",
    "popt, pcov = optimize.leastsq(resid, p0, args=(t, y))\n",
    "text = \"A: {0:1.3f}\\nk: {1:1.3f}\\nf: {2:1.3f}\".format(*popt)\n",
    "\n",
    "print (\"Optimized parameters:\\n\", popt)\n",
    "\n",
    "fig, ax = plt.subplots(1,1)\n",
    "ax.plot(t,y, label='data')\n",
    "ax.plot(t,fun(t,*popt), label='least-squares')\n",
    "ax.plot(t,resid(popt, t, y), color='gray', label='residues', zorder=-2)\n",
    "ax.text(4,-0.9, text, fontsize=15)\n",
    "ax.legend()\n",
    "plt.show()"
   ]
  }
 ],
 "metadata": {
  "kernelspec": {
   "display_name": "Python 3",
   "language": "python",
   "name": "python3"
  },
  "language_info": {
   "codemirror_mode": {
    "name": "ipython",
    "version": 3
   },
   "file_extension": ".py",
   "mimetype": "text/x-python",
   "name": "python",
   "nbconvert_exporter": "python",
   "pygments_lexer": "ipython3",
   "version": "3.6.4"
  }
 },
 "nbformat": 4,
 "nbformat_minor": 2
}
